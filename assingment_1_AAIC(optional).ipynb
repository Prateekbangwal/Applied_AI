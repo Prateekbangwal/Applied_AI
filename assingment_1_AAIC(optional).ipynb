{
  "nbformat": 4,
  "nbformat_minor": 0,
  "metadata": {
    "colab": {
      "name": "assingment_1_AAIC(optional).ipynb",
      "provenance": [],
      "authorship_tag": "ABX9TyO1jgT6zJ8BPKuXQjUBstRg",
      "include_colab_link": true
    },
    "kernelspec": {
      "name": "python3",
      "display_name": "Python 3"
    },
    "language_info": {
      "name": "python"
    }
  },
  "cells": [
    {
      "cell_type": "markdown",
      "metadata": {
        "id": "view-in-github",
        "colab_type": "text"
      },
      "source": [
        "<a href=\"https://colab.research.google.com/github/Prateekbangwal/Applied_AI/blob/main/assingment_1_AAIC(optional).ipynb\" target=\"_parent\"><img src=\"https://colab.research.google.com/assets/colab-badge.svg\" alt=\"Open In Colab\"/></a>"
      ]
    },
    {
      "cell_type": "markdown",
      "metadata": {
        "id": "H3kndICFiJzx"
      },
      "source": [
        "Ques1: Input the number and print multiplication table of the number"
      ]
    },
    {
      "cell_type": "code",
      "metadata": {
        "colab": {
          "base_uri": "https://localhost:8080/"
        },
        "id": "swVsCGoLiU3e",
        "outputId": "2c5a2d1a-0236-4c11-b02d-3a78773502db"
      },
      "source": [
        "def multipication_table_number(num):\n",
        "  for i in range(1, 11):\n",
        "    result = num * i\n",
        "    print(\"Number : %2d  Times : %2d = :%2d\" % (num, i, result))\n",
        "num  = int(input('Enter a number..'))\n",
        "multipication_table_number(num)"
      ],
      "execution_count": null,
      "outputs": [
        {
          "output_type": "stream",
          "text": [
            "Enter a number..138\n",
            "Number : 138  Times :  1 = :138\n",
            "Number : 138  Times :  2 = :276\n",
            "Number : 138  Times :  3 = :414\n",
            "Number : 138  Times :  4 = :552\n",
            "Number : 138  Times :  5 = :690\n",
            "Number : 138  Times :  6 = :828\n",
            "Number : 138  Times :  7 = :966\n",
            "Number : 138  Times :  8 = :1104\n",
            "Number : 138  Times :  9 = :1242\n",
            "Number : 138  Times : 10 = :1380\n"
          ],
          "name": "stdout"
        }
      ]
    },
    {
      "cell_type": "markdown",
      "metadata": {
        "id": "LNR3sypOkepD"
      },
      "source": [
        "Ques2 : Print Twin Primes less than 1000"
      ]
    },
    {
      "cell_type": "code",
      "metadata": {
        "colab": {
          "base_uri": "https://localhost:8080/"
        },
        "id": "TYbkJ6EZjGCU",
        "outputId": "c27011ff-09ec-42c7-a63e-63e3e11446f7"
      },
      "source": [
        "def check_isPrime(num):\n",
        "  for i in range(2, num):\n",
        "    if num%i == 0:\n",
        "      return False\n",
        "  return True\n",
        "\n",
        "\n",
        "def checktwinPrime(start, end):\n",
        "   for i in range(start, end):\n",
        "      j = i + 2\n",
        "      if(check_isPrime(i) and check_isPrime(j)):\n",
        "         print(\"{:d} and {:d}\".format(i, j))\n",
        "checktwinPrime(2, 1000)"
      ],
      "execution_count": null,
      "outputs": [
        {
          "output_type": "stream",
          "text": [
            "3 and 5\n",
            "5 and 7\n",
            "11 and 13\n",
            "17 and 19\n",
            "29 and 31\n",
            "41 and 43\n",
            "59 and 61\n",
            "71 and 73\n",
            "101 and 103\n",
            "107 and 109\n",
            "137 and 139\n",
            "149 and 151\n",
            "179 and 181\n",
            "191 and 193\n",
            "197 and 199\n",
            "227 and 229\n",
            "239 and 241\n",
            "269 and 271\n",
            "281 and 283\n",
            "311 and 313\n",
            "347 and 349\n",
            "419 and 421\n",
            "431 and 433\n",
            "461 and 463\n",
            "521 and 523\n",
            "569 and 571\n",
            "599 and 601\n",
            "617 and 619\n",
            "641 and 643\n",
            "659 and 661\n",
            "809 and 811\n",
            "821 and 823\n",
            "827 and 829\n",
            "857 and 859\n",
            "881 and 883\n"
          ],
          "name": "stdout"
        }
      ]
    },
    {
      "cell_type": "markdown",
      "metadata": {
        "id": "3PwjPi6TwtpQ"
      },
      "source": [
        "Ques3 : write a program to print the prime factors of a number?\n"
      ]
    },
    {
      "cell_type": "code",
      "metadata": {
        "id": "43NvCtldgtAS",
        "colab": {
          "base_uri": "https://localhost:8080/"
        },
        "outputId": "6bc5016b-0367-4c03-f799-aa494f52b4cd"
      },
      "source": [
        "import math\n",
        "\n",
        "def isPrime(num):\n",
        "  isPrime = False\n",
        "  if num > 1:\n",
        "    for i in range(2, num):\n",
        "      if (num % i) ==0:\n",
        "        isPrime = True\n",
        "      break\n",
        "  if isPrime:\n",
        "     print(num, \"Is not a prime number\")\n",
        "  else:\n",
        "    print(num, \"Is prime number\")\n",
        "\n",
        "isPrime(29)\n",
        "isPrime(97)\n",
        "isPrime(70)"
      ],
      "execution_count": null,
      "outputs": [
        {
          "output_type": "stream",
          "text": [
            "29 Is prime number\n",
            "97 Is prime number\n",
            "70 Is not a prime number\n"
          ],
          "name": "stdout"
        }
      ]
    },
    {
      "cell_type": "markdown",
      "metadata": {
        "id": "VwkDl3f0yYSu"
      },
      "source": [
        "Ques 4: WAP for implementation of permutaiton and combinations formula\n",
        "**p(n, r) = n! / (n-r)! and c(n, r) = n! / (r!*(n-r)!) = p(n,r) / r!**\n"
      ]
    },
    {
      "cell_type": "code",
      "metadata": {
        "colab": {
          "base_uri": "https://localhost:8080/"
        },
        "id": "qXLagHVlytta",
        "outputId": "2368b4f3-d5f1-4679-ae50-ac79fc134c8b"
      },
      "source": [
        "def get_fact(num):\n",
        "  if num == 1:\n",
        "    return 1\n",
        "  elif num<0:\n",
        "    print('Number is less then 0: No factorial found')\n",
        "  else:\n",
        "   return num * get_fact(num-1)\n",
        "\n",
        "def get_permutation(n, r):\n",
        "  return (get_fact(n)/get_fact(n-r))\n",
        "\n",
        "def get_combination(n,r):\n",
        "  return (get_permutation(n,r)/get_fact(r))\n",
        "\n",
        "\n",
        "print(get_permutation(8,4))\n",
        "print(get_combination(8,4))"
      ],
      "execution_count": null,
      "outputs": [
        {
          "output_type": "stream",
          "text": [
            "120.0\n",
            "36.0\n"
          ],
          "name": "stdout"
        }
      ]
    },
    {
      "cell_type": "markdown",
      "metadata": {
        "id": "1or3T_vZ0PRg"
      },
      "source": [
        "Ques5 : WAP to convert decimal into binary\n",
        "\n",
        "\n",
        "How to convert decimal to binary\n",
        "Conversion steps:\n",
        "Divide the number by 2.\n",
        "Get the integer quotient for the next iteration.\n",
        "Get the remainder for the binary digit.\n",
        "Repeat the steps until the quotient is equal to 0.\n",
        "\n",
        "Reference for conversion : https://www.rapidtables.com/convert/number/decimal-to-binary.html"
      ]
    },
    {
      "cell_type": "code",
      "metadata": {
        "colab": {
          "base_uri": "https://localhost:8080/"
        },
        "id": "y9YNG7Njz2PG",
        "outputId": "f620ac93-2baa-4409-e74d-7006bb8cd743"
      },
      "source": [
        "def decimal_to_binary(num):\n",
        "  list_of_binary_bits = []\n",
        "  while num >=1:\n",
        "    r = num % 2\n",
        "    num = num//2\n",
        "    list_of_binary_bits.append(r)\n",
        "  list_of_binary_bits.reverse()\n",
        "  return list_of_binary_bits\n",
        "\n",
        "print(decimal_to_binary(13))\n",
        "print(decimal_to_binary(174))"
      ],
      "execution_count": null,
      "outputs": [
        {
          "output_type": "stream",
          "text": [
            "[1, 1, 0, 1]\n",
            "[1, 0, 1, 0, 1, 1, 1, 0]\n"
          ],
          "name": "stdout"
        }
      ]
    },
    {
      "cell_type": "markdown",
      "metadata": {
        "id": "xlHNkxO92zxX"
      },
      "source": [
        "Ques6 : WAP with function cubesum() that accepts an integer and returns sum of cubes of indiviadual digits of that number.\n",
        "Use this function to make functions PrintArmstrong() and isArmstrong() to print Armstrong numbers and to find whether is an Armstrong number\n"
      ]
    },
    {
      "cell_type": "code",
      "metadata": {
        "colab": {
          "base_uri": "https://localhost:8080/"
        },
        "id": "2VUNxi-C16_P",
        "outputId": "a7c34b27-e039-4654-a1a5-a6c9402f82a8"
      },
      "source": [
        "def cubesum(num):\n",
        "  sum = 0\n",
        "  \"\"\"\n",
        "  function accepts an interger , so adding provision for other data types\n",
        "  \"\"\"\n",
        "  if type(num)!=int:\n",
        "      try :\n",
        "        num = int(num)\n",
        "        intial_num = num\n",
        "        print('Converting number into Integer type')\n",
        "      except :\n",
        "        print('*****')\n",
        "        return 'Please enter a valid number'\n",
        "  while(num!=0):\n",
        "    sum = sum + ((num %10)**3)\n",
        "    num = num//10\n",
        "  return sum, intial_num\n",
        "\n",
        "def checkArmStrong(num):\n",
        "  \"\"\"\n",
        "  if user enters a float or string type of numbers function will convert that to int first\n",
        "  \"\"\"\n",
        "  sum,number = cubesum(num)\n",
        "  print(sum)\n",
        "  print(number)\n",
        "  if sum == num and number == num:\n",
        "    print(num, 'is an Armstrong Number')\n",
        "  elif sum == number and number != num:\n",
        "    print(number, 'is an Armstrong Number')\n",
        "  else:\n",
        "    print(num, 'is not an Armstrong Number')\n",
        "  \n",
        "# checkArmStrong(153)\n",
        "# cubesum(153.22)\n",
        "checkArmStrong(153.22)"
      ],
      "execution_count": null,
      "outputs": [
        {
          "output_type": "stream",
          "text": [
            "Converting number into Integer type\n",
            "153\n",
            "153\n",
            "153 is an Armstrong Number\n"
          ],
          "name": "stdout"
        }
      ]
    },
    {
      "cell_type": "markdown",
      "metadata": {
        "id": "ofAZMLrB_m7_"
      },
      "source": [
        "Ques7 : WAP with funtion prodDigits() that inputs the number and reurns the product of digits of that number"
      ]
    },
    {
      "cell_type": "code",
      "metadata": {
        "colab": {
          "base_uri": "https://localhost:8080/"
        },
        "id": "-fKfXZpL4wM9",
        "outputId": "cc730185-a01c-4add-e0ea-444c01079255"
      },
      "source": [
        "from functools import reduce\n",
        "def prodDigits(num):\n",
        "  num = list(str(num))\n",
        "  product = reduce((lambda x,y : int(x)*int(y)), num)\n",
        "  return product\n",
        "\n",
        "prodDigits(14555)\n"
      ],
      "execution_count": null,
      "outputs": [
        {
          "output_type": "execute_result",
          "data": {
            "text/plain": [
              "500"
            ]
          },
          "metadata": {
            "tags": []
          },
          "execution_count": 61
        }
      ]
    },
    {
      "cell_type": "markdown",
      "metadata": {
        "id": "Jz21a-DlCZQU"
      },
      "source": [
        "Ques 8: If all digits of a number n are multiplied by each other repeating with the product, the one digit number obtained at last is called the multiplicative digital root of n. The number of times digits need to be multiplied to reach one digit is called the multiplicative persistance of n. Example: 86 -> 48 -> 32 -> 6 (MDR 6, MPersistence 3) 341 -> 12->2 (MDR 2, MPersistence 2) Using the function prodDigits() of previous exercise write functions MDR() and MPersistence() that input a number and return its multiplicative digital root and multiplicative persistence respectively"
      ]
    },
    {
      "cell_type": "code",
      "metadata": {
        "colab": {
          "base_uri": "https://localhost:8080/"
        },
        "id": "e3aMxSMEAGrH",
        "outputId": "44a625cd-3cd1-492e-be44-c053bf7dfca8"
      },
      "source": [
        "def mdr(num):\n",
        "  while(num>9):\n",
        "    num = prodDigits(num)\n",
        "  return num\n",
        "\n",
        "print(mdr(86))\n",
        "\n",
        "def mPersist(num):\n",
        "  i = 0\n",
        "  while(num>9):\n",
        "    num = prodDigits(num)\n",
        "    i +=1\n",
        "  return i\n",
        "\n",
        "print(mPersist(86))"
      ],
      "execution_count": null,
      "outputs": [
        {
          "output_type": "stream",
          "text": [
            "6\n",
            "3\n"
          ],
          "name": "stdout"
        }
      ]
    },
    {
      "cell_type": "markdown",
      "metadata": {
        "id": "SCZ8-v9Iie1J"
      },
      "source": [
        "Ques 9)Write a function sumPdivisors() that finds the sum of proper divisors of a number. Proper divisors of a number are those numbers by which the number is divisible, except the number itself. For example proper divisors of 36 are 1, 2, 3, 4, 6, 9, 18"
      ]
    },
    {
      "cell_type": "code",
      "metadata": {
        "colab": {
          "base_uri": "https://localhost:8080/"
        },
        "id": "8cWhtCyLCqaY",
        "outputId": "4a757ce4-64cf-4d36-d1d1-ed2d7c742e53"
      },
      "source": [
        "def sumPdivisiors(num):\n",
        "  proper_divisors = [i for i in range(1, num) if num % i == 0]\n",
        "  return proper_divisors\n",
        "\n",
        "sumPdivisiors(36)"
      ],
      "execution_count": null,
      "outputs": [
        {
          "output_type": "execute_result",
          "data": {
            "text/plain": [
              "[1, 2, 3, 4, 6, 9, 12, 18]"
            ]
          },
          "metadata": {
            "tags": []
          },
          "execution_count": 1
        }
      ]
    },
    {
      "cell_type": "markdown",
      "metadata": {
        "id": "X3qR_VbWi6mM"
      },
      "source": [
        "Ques 10:A number is called perfect if the sum of proper divisors of that number is equal to the number. For example 28 is perfect number, since 1+2+4+7+14=28. Write a program to print all the perfect numbers in a given range"
      ]
    },
    {
      "cell_type": "code",
      "metadata": {
        "colab": {
          "base_uri": "https://localhost:8080/"
        },
        "id": "ywwPQakqi1gz",
        "outputId": "6047e5d3-b657-4890-9639-019941d545d1"
      },
      "source": [
        "def isNumberPerfect(num):\n",
        "  for i in range(1, num+1):\n",
        "    proper_divisors = sumPdivisiors(i)\n",
        "    if sum(proper_divisors) == i:\n",
        "      print(i)\n",
        "isNumberPerfect(2000)"
      ],
      "execution_count": null,
      "outputs": [
        {
          "output_type": "stream",
          "text": [
            "6\n",
            "28\n",
            "496\n"
          ],
          "name": "stdout"
        }
      ]
    },
    {
      "cell_type": "markdown",
      "metadata": {
        "id": "wC4Pn58pj7bk"
      },
      "source": [
        "Ques11) Two different numbers are called amicable numbers if the sum of the proper divisors of each is equal to the other number. For example 220 and 284 are amicable numbers. Sum of proper divisors of 220 = 1+2+4+5+10+11+20+22+44+55+110 = 284 Sum of proper divisors of 284 = 1+2+4+71+142 = 220 Write a function to print pairs of amicable numbers in a range"
      ]
    },
    {
      "cell_type": "code",
      "metadata": {
        "colab": {
          "base_uri": "https://localhost:8080/"
        },
        "id": "b5JibeX1j06M",
        "outputId": "6cdbcc66-5cd5-491c-9dbf-2ad90b877896"
      },
      "source": [
        "def IsPairAmicable(num1, num2):\n",
        "  if (sum(sumPdivisiors(num1)) == num2 and sum(sumPdivisiors(num2)) == num1):\n",
        "    print(num1, 'and', num2, 'are amicable numbers')\n",
        "  else:\n",
        "    print(num1, 'and', num2, 'are not amicable numbers')\n",
        "\n",
        "IsPairAmicable(220,284)\n",
        "IsPairAmicable(222, 999)"
      ],
      "execution_count": null,
      "outputs": [
        {
          "output_type": "stream",
          "text": [
            "220 and 284 are amicable numbers\n",
            "222 and 999 are not amicable numbers\n"
          ],
          "name": "stdout"
        }
      ]
    },
    {
      "cell_type": "markdown",
      "metadata": {
        "id": "nlwYo6SVk0uL"
      },
      "source": [
        "Ques 12)Write a program which can filter odd numbers in a list by using filter function"
      ]
    },
    {
      "cell_type": "code",
      "metadata": {
        "colab": {
          "base_uri": "https://localhost:8080/"
        },
        "id": "Ta6Zp4VNkl71",
        "outputId": "d584cd21-1010-461a-d877-86e0df089402"
      },
      "source": [
        "lst = [1,5,7,8,10,12,13]\n",
        "def pickOddNumbers(num):\n",
        "  if (num % 2 != 0):\n",
        "    return num\n",
        "\n",
        "odd_num_list = list(filter(pickOddNumbers, lst))\n",
        "print(odd_num_list)\n"
      ],
      "execution_count": null,
      "outputs": [
        {
          "output_type": "stream",
          "text": [
            "[1, 5, 7, 13]\n"
          ],
          "name": "stdout"
        }
      ]
    },
    {
      "cell_type": "markdown",
      "metadata": {
        "id": "fP0iB6bRlumB"
      },
      "source": [
        "\n",
        "13)Write a program which can map() to make a list whose elements are cube of elements in a givelist"
      ]
    },
    {
      "cell_type": "code",
      "metadata": {
        "colab": {
          "base_uri": "https://localhost:8080/"
        },
        "id": "PYQRVjxYlsK9",
        "outputId": "d737e998-39f0-4c23-a7ed-25a6883f7828"
      },
      "source": [
        "def cube_num(num):\n",
        "  return num ** 3\n",
        "\n",
        "cubed = list(map(cube_num,lst))\n",
        "print(cubed)"
      ],
      "execution_count": null,
      "outputs": [
        {
          "output_type": "stream",
          "text": [
            "[1, 125, 343, 512, 1000, 1728, 2197]\n"
          ],
          "name": "stdout"
        }
      ]
    },
    {
      "cell_type": "markdown",
      "metadata": {
        "id": "t0GrptyumE53"
      },
      "source": [
        "\n",
        "14)write a program which can map() and filter() to make a list whose elements are cube of even number in a given list"
      ]
    },
    {
      "cell_type": "code",
      "metadata": {
        "colab": {
          "base_uri": "https://localhost:8080/"
        },
        "id": "3QaU2fWRmBYQ",
        "outputId": "32496184-0ada-46a3-8256-12b527e07540"
      },
      "source": [
        "lst = [1,2,5,6,9,12,11,13]\n",
        "def Iseven(num):\n",
        "  if num % 2 == 0:\n",
        "    return num\n",
        "\n",
        "def cubed(num):\n",
        "  return num ** 3\n",
        "\n",
        "result_list = list(map(cubed, filter(Iseven, lst)))\n",
        "print(result_list)"
      ],
      "execution_count": null,
      "outputs": [
        {
          "output_type": "stream",
          "text": [
            "[8, 216, 1728]\n"
          ],
          "name": "stdout"
        }
      ]
    },
    {
      "cell_type": "code",
      "metadata": {
        "id": "EHsT9KBjnAxg"
      },
      "source": [
        ""
      ],
      "execution_count": null,
      "outputs": []
    }
  ]
}